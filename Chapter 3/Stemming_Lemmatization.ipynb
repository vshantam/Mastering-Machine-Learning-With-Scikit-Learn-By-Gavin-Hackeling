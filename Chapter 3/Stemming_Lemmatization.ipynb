{
 "cells": [
  {
   "cell_type": "markdown",
   "metadata": {},
   "source": [
    "<H1>Stemming And emmatization </H1>"
   ]
  }
  	]
}

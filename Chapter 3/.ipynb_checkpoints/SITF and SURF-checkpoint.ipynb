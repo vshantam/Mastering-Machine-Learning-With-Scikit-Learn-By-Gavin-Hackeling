{
 "cells": [
  {
   "cell_type": "markdown",
   "metadata": {},
   "source": [
    "<h2>SIFT and SURF</h2>"
   ]
  },
  {
   "cell_type": "code",
   "execution_count": 14,
   "metadata": {},
   "outputs": [],
   "source": [
    "#Importing Libraries\n",
    "import mahotas as mh\n",
    "from mahotas.features import surf\n",
    "from skimage.color import rgb2gray\n",
    "import skimage.io as io\n",
    "from skimage.exposure import equalize_hist\n",
    "import matplotlib.pyplot as plt"
   ]
  },
  {
   "cell_type": "code",
   "execution_count": 20,
   "metadata": {},
   "outputs": [
    {
     "name": "stdout",
     "output_type": "stream",
     "text": [
      "The first SURF descriptor:\n",
      " [ 7.40874313e+02  3.74008516e+02  2.63210079e+00  1.90181410e+03\n",
      " -1.00000000e+00 -1.49599945e+00  5.21121332e-04 -4.46001236e-04\n",
      "  1.03887994e-03  1.26807855e-03  7.87041901e-03 -5.35412410e-03\n",
      "  8.24037195e-03  5.35735277e-03  6.73874081e-03 -4.15194019e-03\n",
      "  6.80580129e-03  5.42590579e-03  1.89051107e-03 -1.75433840e-03\n",
      "  1.89061202e-03  2.48912645e-03  2.27280956e-02 -4.38511336e-02\n",
      "  2.58425014e-02  4.42349216e-02  9.52303993e-02 -2.35387988e-01\n",
      "  2.25000145e-01  2.37712896e-01 -2.25577310e-02 -3.05508403e-02\n",
      "  1.38990236e-01  1.14841604e-01  3.75598300e-03 -1.57277013e-02\n",
      "  5.91342326e-03  1.70466408e-02  4.29063238e-02 -2.31839051e-02\n",
      "  4.29063238e-02  2.31839051e-02  4.00240817e-01 -2.62699458e-01\n",
      "  4.00240817e-01  2.62699458e-01  3.51414283e-01 -8.26938049e-02\n",
      "  3.52110969e-01  2.46586846e-01  1.41308854e-02 -6.72203639e-02\n",
      "  1.84529006e-02  6.72203639e-02  7.64676362e-04 -5.03097550e-04\n",
      "  7.87196006e-04  5.03097550e-04  4.15046090e-03 -5.00472683e-03\n",
      "  4.85765954e-03  5.80832354e-03  4.62176695e-03 -8.15893290e-03\n",
      "  5.23267020e-03  1.09245065e-02  6.68829819e-03 -8.97871306e-03\n",
      "  6.68829819e-03  8.97871306e-03]\n",
      "Extracted 995 SURF descriptors\n"
     ]
    },
    {
     "data": {
      "image/png": "[encoded data removed]",
      "text/plain": [
       "<Figure size 432x288 with 1 Axes>"
      ]
     },
     "metadata": {
      "needs_background": "light"
     },
     "output_type": "display_data"
    }
   ],
   "source": [
    "image = mh.imread('/root/Mastering Machine Learning With Scikit-Learn By Gavin Hackeling/Chapter 3/Images/boxer-pitbull-mix-pop-art-greyscale-james-ahn.jpg', as_grey=True)\n",
    "print ('The first SURF descriptor:\\n', surf.surf(image)[0])\n",
    "print ('Extracted %s SURF descriptors' % len(surf.surf(image)))\n",
    "plt.hist(surf.surf(image)[0])\n",
    "plt.show()"
   ]
  }
 ],
 "metadata": {
  "kernelspec": {
   "display_name": "Python 3",
   "language": "python",
   "name": "python3"
  },
  "language_info": {
   "codemirror_mode": {
    "name": "ipython",
    "version": 3
   },
   "file_extension": ".py",
   "mimetype": "text/x-python",
   "name": "python",
   "nbconvert_exporter": "python",
   "pygments_lexer": "ipython3",
   "version": "3.9.1rc1"
  }
 },
 "nbformat": 4,
 "nbformat_minor": 4
}

{
 "cells": [
  {
   "cell_type": "code",
   "execution_count": 1,
   "metadata": {},
   "outputs": [],
   "source": [
    "#Importing Libraries\n",
    "\n",
    "import pandas as pd\n",
    "import numpy as np\n",
    "import matplotlib.pyplot as plt\n",
    "from sklearn.linear_model import LinearRegression\n",
    "from numpy.linalg import inv"
   ]
  },
  {
   "cell_type": "code",
   "execution_count": 2,
   "metadata": {},
   "outputs": [
    {
     "data": {
      "text/html": [
       "<div>\n",
       "<style scoped>\n",
       "    .dataframe tbody tr th:only-of-type {\n",
       "        vertical-align: middle;\n",
       "    }\n",
       "\n",
       "    .dataframe tbody tr th {\n",
       "        vertical-align: top;\n",
       "    }\n",
       "\n",
       "    .dataframe thead th {\n",
       "        text-align: right;\n",
       "    }\n",
       "</style>\n",
       "<table border=\"1\" class=\"dataframe\">\n",
       "  <thead>\n",
       "    <tr style=\"text-align: right;\">\n",
       "      <th></th>\n",
       "      <th>Daimeter (In Inches)</th>\n",
       "      <th>Number of toppings</th>\n",
       "      <th>Price(In Dollars)</th>\n",
       "    </tr>\n",
       "  </thead>\n",
       "  <tbody>\n",
       "    <tr>\n",
       "      <th>0</th>\n",
       "      <td>6.0</td>\n",
       "      <td>2.0</td>\n",
       "      <td>7.0</td>\n",
       "    </tr>\n",
       "    <tr>\n",
       "      <th>1</th>\n",
       "      <td>8.0</td>\n",
       "      <td>1.0</td>\n",
       "      <td>9.0</td>\n",
       "    </tr>\n",
       "    <tr>\n",
       "      <th>2</th>\n",
       "      <td>10.0</td>\n",
       "      <td>0.0</td>\n",
       "      <td>13.0</td>\n",
       "    </tr>\n",
       "    <tr>\n",
       "      <th>3</th>\n",
       "      <td>14.0</td>\n",
       "      <td>2.0</td>\n",
       "      <td>17.5</td>\n",
       "    </tr>\n",
       "    <tr>\n",
       "      <th>4</th>\n",
       "      <td>18.0</td>\n",
       "      <td>0.0</td>\n",
       "      <td>18.0</td>\n",
       "    </tr>\n",
       "  </tbody>\n",
       "</table>\n",
       "</div>"
      ],
      "text/plain": [
       "   Daimeter (In Inches)  Number of toppings  Price(In Dollars)\n",
       "0                   6.0                 2.0                7.0\n",
       "1                   8.0                 1.0                9.0\n",
       "2                  10.0                 0.0               13.0\n",
       "3                  14.0                 2.0               17.5\n",
       "4                  18.0                 0.0               18.0"
      ]
     },
     "execution_count": 2,
     "metadata": {},
     "output_type": "execute_result"
    }
   ],
   "source": [
    "#Data Set\n",
    "\n",
    "data_set = np.array([[6, 2, 7], [8, 1, 9], [10, 0, 13], [14, 2, 17.5], [18, 0, 18]])\n",
    "df = pd.DataFrame(data = data_set, index = [str(int(x)) for x in range(5)], columns = [\"Daimeter (In Inches)\",\"Number of toppings\", \"Price(In Dollars)\"])\n",
    "df"
   ]
  },
  {
   "cell_type": "code",
   "execution_count": 21,
   "metadata": {},
   "outputs": [
    {
     "data": {
      "text/plain": [
       "(array([[ 6.,  2.],\n",
       "        [ 8.,  1.],\n",
       "        [10.,  0.],\n",
       "        [14.,  2.],\n",
       "        [18.,  0.]]),\n",
       " array([[ 7. ],\n",
       "        [ 9. ],\n",
       "        [13. ],\n",
       "        [17.5],\n",
       "        [18. ]]))"
      ]
     },
     "execution_count": 21,
     "metadata": {},
     "output_type": "execute_result"
    }
   ],
   "source": [
    "#Model\n",
    "\n",
    "#y = α + β 1 x 1 + β 2 x 2 + ⋅⋅⋅ + β n x n\n",
    "#Y = X β\n",
    "#β = (inv( X T X )  X T Y)\n",
    "\n",
    "data_x = np.array(df.iloc[:,0:2].values)\n",
    "data_y = np.array(df.iloc[:,2].values.reshape(-1,1))\n",
    "\n",
    "data_x, data_y"
   ]
  },
  {
   "cell_type": "code",
   "execution_count": 14,
   "metadata": {},
   "outputs": [
    {
     "data": {
      "text/plain": [
       "array([[1.08548851],\n",
       "       [0.65517241]])"
      ]
     },
     "execution_count": 14,
     "metadata": {},
     "output_type": "execute_result"
    }
   ],
   "source": [
    "Beta = np.dot(np.linalg.inv(np.dot(data_x.T,data_x)),np.dot(data_x.T,data_y))\n",
    "Beta"
   ]
  },
  {
   "cell_type": "code",
   "execution_count": 19,
   "metadata": {},
   "outputs": [
    {
     "data": {
      "text/plain": [
       "array([[ 9.99425287],\n",
       "       [ 9.76939655],\n",
       "       [13.25071839],\n",
       "       [18.67816092],\n",
       "       [13.02586207]])"
      ]
     },
     "execution_count": 19,
     "metadata": {},
     "output_type": "execute_result"
    }
   ],
   "source": [
    "data_x_test = [[8, 2], [9, 0], [11, 2], [16, 2], [12, 0]]\n",
    "data_y_test = [[11], [8.5], [15], [18], [11]]\n",
    "Y = np.dot(data_x_test,Beta)\n",
    "Y"
   ]
  },
  {
   "cell_type": "code",
   "execution_count": 20,
   "metadata": {},
   "outputs": [
    {
     "data": {
      "text/plain": [
       "array([[10.0625    ],\n",
       "       [10.28125   ],\n",
       "       [13.09375   ],\n",
       "       [18.14583333],\n",
       "       [13.3125    ]])"
      ]
     },
     "execution_count": 20,
     "metadata": {},
     "output_type": "execute_result"
    }
   ],
   "source": [
    "#Model\n",
    "\n",
    "model = LinearRegression()\n",
    "model.fit(data_x, data_y)\n",
    "pred = model.predict(data_x_test)\n",
    "pred"
   ]
  }
 ],
 "metadata": {
  "kernelspec": {
   "display_name": "Python 3",
   "language": "python",
   "name": "python3"
  },
  "language_info": {
   "codemirror_mode": {
    "name": "ipython",
    "version": 3
   },
   "file_extension": ".py",
   "mimetype": "text/x-python",
   "name": "python",
   "nbconvert_exporter": "python",
   "pygments_lexer": "ipython3",
   "version": "3.9.1rc1"
  }
 },
 "nbformat": 4,
 "nbformat_minor": 4
}

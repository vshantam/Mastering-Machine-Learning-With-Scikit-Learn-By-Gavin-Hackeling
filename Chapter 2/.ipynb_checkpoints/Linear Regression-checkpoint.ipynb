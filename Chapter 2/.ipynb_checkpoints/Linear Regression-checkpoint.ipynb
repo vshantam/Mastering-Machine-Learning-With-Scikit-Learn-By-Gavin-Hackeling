{
 "cells": [
  {
   "cell_type": "code",
   "execution_count": 45,
   "metadata": {},
   "outputs": [],
   "source": [
    "#Importing Libraries\n",
    "\n",
    "import pandas as pd\n",
    "import numpy as np\n",
    "import matplotlib.pyplot as plt\n",
    "from sklearn.linear_model import LinearRegression"
   ]
  },
  {
   "cell_type": "code",
   "execution_count": 46,
   "metadata": {},
   "outputs": [
    {
     "data": {
      "text/html": [
       "<div>\n",
       "<style scoped>\n",
       "    .dataframe tbody tr th:only-of-type {\n",
       "        vertical-align: middle;\n",
       "    }\n",
       "\n",
       "    .dataframe tbody tr th {\n",
       "        vertical-align: top;\n",
       "    }\n",
       "\n",
       "    .dataframe thead th {\n",
       "        text-align: right;\n",
       "    }\n",
       "</style>\n",
       "<table border=\"1\" class=\"dataframe\">\n",
       "  <thead>\n",
       "    <tr style=\"text-align: right;\">\n",
       "      <th></th>\n",
       "      <th>Daimeter (In Inches)</th>\n",
       "      <th>Price(In Dollars)</th>\n",
       "    </tr>\n",
       "  </thead>\n",
       "  <tbody>\n",
       "    <tr>\n",
       "      <th>0</th>\n",
       "      <td>6.0</td>\n",
       "      <td>7.0</td>\n",
       "    </tr>\n",
       "    <tr>\n",
       "      <th>1</th>\n",
       "      <td>8.0</td>\n",
       "      <td>9.0</td>\n",
       "    </tr>\n",
       "    <tr>\n",
       "      <th>2</th>\n",
       "      <td>10.0</td>\n",
       "      <td>13.0</td>\n",
       "    </tr>\n",
       "    <tr>\n",
       "      <th>3</th>\n",
       "      <td>14.0</td>\n",
       "      <td>17.5</td>\n",
       "    </tr>\n",
       "    <tr>\n",
       "      <th>4</th>\n",
       "      <td>18.0</td>\n",
       "      <td>18.0</td>\n",
       "    </tr>\n",
       "  </tbody>\n",
       "</table>\n",
       "</div>"
      ],
      "text/plain": [
       "   Daimeter (In Inches)  Price(In Dollars)\n",
       "0                   6.0                7.0\n",
       "1                   8.0                9.0\n",
       "2                  10.0               13.0\n",
       "3                  14.0               17.5\n",
       "4                  18.0               18.0"
      ]
     },
     "execution_count": 46,
     "metadata": {},
     "output_type": "execute_result"
    }
   ],
   "source": [
    "#Data Set\n",
    "\n",
    "data_set = np.array([[6, 7], [8, 9], [10, 13], [14, 17.5], [18, 18]])\n",
    "df = pd.DataFrame(data = data_set, index = [str(int(x)) for x in range(5)], columns = [\"Daimeter (In Inches)\", \"Price(In Dollars)\"])\n",
    "df"
   ]
  },
  {
   "cell_type": "code",
   "execution_count": 47,
   "metadata": {},
   "outputs": [
    {
     "data": {
      "text/plain": [
       "(array([ 6.,  8., 10., 14., 18.]), array([ 7. ,  9. , 13. , 17.5, 18. ]))"
      ]
     },
     "execution_count": 47,
     "metadata": {},
     "output_type": "execute_result"
    }
   ],
   "source": [
    "#Extracting Features and Values\n",
    "\n",
    "data_x = df.iloc[:,0].values\n",
    "data_y = df.iloc[:,1].values\n",
    "data_x, data_y"
   ]
  },
  {
   "cell_type": "code",
   "execution_count": 48,
   "metadata": {},
   "outputs": [
    {
     "data": {
      "text/plain": [
       "[]"
      ]
     },
     "execution_count": 48,
     "metadata": {},
     "output_type": "execute_result"
    },
    {
     "data": {
      "image/png": "[encoded data removed]",
      "text/plain": [
       "<Figure size 432x288 with 1 Axes>"
      ]
     },
     "metadata": {
      "needs_background": "light"
     },
     "output_type": "display_data"
    }
   ],
   "source": [
    "#Visualizing the data\n",
    "\n",
    "plt.figure()\n",
    "plt.plot(data_x, data_y, 'k.')\n",
    "plt.xlabel(\"Daimater (In Inches)\")\n",
    "plt.ylabel(\"Price(In Dollars)\")\n",
    "plt.title(\"Pizza price plotted against diameter\")\n",
    "plt.axis([0,25,0,25])\n",
    "plt.grid(True)\n",
    "plt.plot()"
   ]
  },
  {
   "cell_type": "code",
   "execution_count": 49,
   "metadata": {},
   "outputs": [
    {
     "name": "stdout",
     "output_type": "stream",
     "text": [
      "A 12\" pizza should cost: $13.68\n"
     ]
    }
   ],
   "source": [
    "#Creating the Model, Fitting and Predicting\n",
    "\n",
    "model = LinearRegression()\n",
    "model.fit(data_x.reshape(-1,1), data_y)\n",
    "print ('A 12\" pizza should cost: $%.2f' % model.predict([[12]])[0])"
   ]
  },
  {
   "cell_type": "code",
   "execution_count": 58,
   "metadata": {},
   "outputs": [
    {
     "name": "stdout",
     "output_type": "stream",
     "text": [
      "Residual Sum of Square is 8.747844827586203\n"
     ]
    }
   ],
   "source": [
    "#Residual Sum of Squares\n",
    "\n",
    "Residual_Sum_Square = np.sum((data_y - model.predict(data_x.reshape(-1,1))) ** 2)\n",
    "print('Residual Sum of Square is {0}'.format(Residual_Sum_Square))"
   ]
  },
  {
   "cell_type": "code",
   "execution_count": 73,
   "metadata": {},
   "outputs": [
    {
     "name": "stdout",
     "output_type": "stream",
     "text": [
      "Covarience is 23.2\n"
     ]
    }
   ],
   "source": [
    "#Variance : How much far the data is spreaded\n",
    "\n",
    "mean = lambda x: sum(x)/len(x)\n",
    "mean_x = mean(data_x)\n",
    "Var = sum([(z-mean_x)**2 for z in data_x])/(len(data_x)-1)\n",
    "print('Variance is {0}'.format(Var))"
   ]
  },
  {
   "cell_type": "code",
   "execution_count": 80,
   "metadata": {},
   "outputs": [
    {
     "name": "stdout",
     "output_type": "stream",
     "text": [
      "Covariance is 22.65\n"
     ]
    }
   ],
   "source": [
    "#Covariance : How much two variable changes together\n",
    "\n",
    "mean_y = mean(data_y)\n",
    "cov = sum([np.dot((np.array(data_x)-mean_x),(np.array(data_y)-mean_y))])/(len(data_x)-1)\n",
    "print('Covariance is {0}'.format(cov))"
   ]
  }
 ],
 "metadata": {
  "kernelspec": {
   "display_name": "Python 3",
   "language": "python",
   "name": "python3"
  },
  "language_info": {
   "codemirror_mode": {
    "name": "ipython",
    "version": 3
   },
   "file_extension": ".py",
   "mimetype": "text/x-python",
   "name": "python",
   "nbconvert_exporter": "python",
   "pygments_lexer": "ipython3",
   "version": "3.9.1rc1"
  }
 },
 "nbformat": 4,
 "nbformat_minor": 4
}

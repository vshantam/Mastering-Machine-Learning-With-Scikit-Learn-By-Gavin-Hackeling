{
 "cells": [
  {
   "cell_type": "code",
   "execution_count": 11,
   "metadata": {},
   "outputs": [],
   "source": [
    "# Parameter Tuning to Gind out the best and optimat parameters\n",
    "\n",
    "import pandas as pd\n",
    "from sklearn.feature_extraction.text import TfidfVectorizer\n",
    "from sklearn.linear_model.logistic import LogisticRegression\n",
    "from sklearn.model_selection import GridSearchCV\n",
    "from sklearn.pipeline import Pipeline\n",
    "from sklearn.model_selection import train_test_split\n",
    "from sklearn.metrics import precision_score, recall_score, accuracy_score\n"
   ]
  },
  {
   "cell_type": "code",
   "execution_count": 23,
   "metadata": {},
   "outputs": [],
   "source": [
    "\n",
    "pipeline = Pipeline([\n",
    "('vect', TfidfVectorizer(stop_words='english')),\n",
    "('clf', LogisticRegression())\n",
    "])\n",
    "parameters = {\n",
    "'vect__max_df': (0.25, 0.5, 0.75),\n",
    "'vect__stop_words': ('english', None),\n",
    "'vect__max_features': (2500, 5000, 10000,20000, None),\n",
    "'vect__ngram_range': ((1, 1), (1, 2), (1,3)),\n",
    "'vect__use_idf': (True, False),\n",
    "'vect__norm': ('l1', 'l2'),\n",
    "'clf__penalty': ('l1', 'l2'),\n",
    "'clf__C': (0.001, 0.01, .1, 1, 10),\n",
    "}"
   ]
  },
  {
   "cell_type": "code",
   "execution_count": 24,
   "metadata": {},
   "outputs": [
    {
     "name": "stdout",
     "output_type": "stream",
     "text": [
      "Fitting 3 folds for each of 3600 candidates, totalling 10800 fits\n"
     ]
    },
    {
     "name": "stderr",
     "output_type": "stream",
     "text": [
      "[Parallel(n_jobs=-1)]: Using backend LokyBackend with 4 concurrent workers.\n",
      "[Parallel(n_jobs=-1)]: Done  42 tasks      | elapsed:    3.9s\n",
      "[Parallel(n_jobs=-1)]: Done 192 tasks      | elapsed:   14.6s\n",
      "[Parallel(n_jobs=-1)]: Done 442 tasks      | elapsed:   32.8s\n",
      "[Parallel(n_jobs=-1)]: Done 792 tasks      | elapsed:  1.1min\n",
      "[Parallel(n_jobs=-1)]: Done 1242 tasks      | elapsed:  1.8min\n",
      "[Parallel(n_jobs=-1)]: Done 1792 tasks      | elapsed:  3.1min\n",
      "[Parallel(n_jobs=-1)]: Done 2442 tasks      | elapsed:  4.4min\n",
      "[Parallel(n_jobs=-1)]: Done 3192 tasks      | elapsed:  5.5min\n",
      "[Parallel(n_jobs=-1)]: Done 4042 tasks      | elapsed:  7.4min\n",
      "[Parallel(n_jobs=-1)]: Done 4992 tasks      | elapsed:  9.0min\n",
      "[Parallel(n_jobs=-1)]: Done 6042 tasks      | elapsed: 11.2min\n",
      "[Parallel(n_jobs=-1)]: Done 7192 tasks      | elapsed: 13.4min\n",
      "[Parallel(n_jobs=-1)]: Done 8442 tasks      | elapsed: 16.3min\n",
      "[Parallel(n_jobs=-1)]: Done 9792 tasks      | elapsed: 18.4min\n",
      "[Parallel(n_jobs=-1)]: Done 10800 out of 10800 | elapsed: 21.6min finished\n"
     ]
    },
    {
     "name": "stdout",
     "output_type": "stream",
     "text": [
      "Best score: 0.984\n",
      "Best parameters set: \n",
      "\tclf__C: 10\n",
      "\tclf__penalty: 'l2'\n",
      "\tvect__max_df: 0.25\n",
      "\tvect__max_features: 2500\n",
      "\tvect__ngram_range: (1, 3)\n",
      "\tvect__norm: 'l2'\n",
      "\tvect__stop_words: None\n",
      "\tvect__use_idf: True\n",
      "Accuracy: 0.9863603732950467\n"
     ]
    }
   ],
   "source": [
    "if __name__ == \"__main__\":\n",
    "    grid_search = GridSearchCV(pipeline, parameters, n_jobs=-1,\n",
    "    verbose=1, scoring='accuracy', cv=3)\n",
    "    df = pd.read_csv('smsspamcollection/SMSSpamCollection', delimiter = '\\t', header = None)\n",
    "    X, y, = df[1], df[0]\n",
    "    X_train, X_test, y_train, y_test = train_test_split(X, y)\n",
    "    grid_search.fit(X_train, y_train)\n",
    "    print ('Best score: %0.3f' % grid_search.best_score_)\n",
    "    print ('Best parameters set: ')\n",
    "    best_parameters = grid_search.best_estimator_.get_params()\n",
    "    for param_name in sorted(parameters.keys()):\n",
    "        print ('\\t%s: %r' % (param_name, best_parameters[param_name]))\n",
    "    predictions = grid_search.predict(X_test)\n",
    "    print ('Accuracy:', accuracy_score(y_test, predictions))"
   ]
  }
 ],
 "metadata": {
  "kernelspec": {
   "display_name": "Python 3",
   "language": "python",
   "name": "python3"
  },
  "language_info": {
   "codemirror_mode": {
    "name": "ipython",
    "version": 3
   },
   "file_extension": ".py",
   "mimetype": "text/x-python",
   "name": "python",
   "nbconvert_exporter": "python",
   "pygments_lexer": "ipython3",
   "version": "3.9.1rc1"
  }
 },
 "nbformat": 4,
 "nbformat_minor": 4
}
